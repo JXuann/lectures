{
 "cells": [
  {
   "cell_type": "markdown",
   "metadata": {},
   "source": [
    "# Homework"
   ]
  },
  {
   "cell_type": "raw",
   "metadata": {},
   "source": [
    "\n",
    "\n"
   ]
  },
  {
   "cell_type": "markdown",
   "metadata": {},
   "source": [
    "# Making experiments"
   ]
  },
  {
   "cell_type": "markdown",
   "metadata": {},
   "source": [
    ". \n",
    "## Why not Psychopy?\n",
    "\n",
    "* Doesn't support Linux (and requires years-old deprecated libraries)\n",
    "* Psychopy **just ported from Python2** (https://github.com/psychopy/psychopy/releases/tag/1.90.0)\n",
    "* Requires openGL2+ (doesn't work in any Virtualbox)\n",
    "* We're programmers, we don't care for GUIS with drag&drop interface anyway - GUIs have a lack of flexibility & control, limiting the scope of experimental settings\n",
    "* All it's dependencies seem outdated (wxPython's newest Ubuntu/Debian installation instructions are for 2011's versions? https://wiki.wxpython.org/InstallingOnUbuntuOrDebian)\n",
    "* Lack of support (their installation instructions for example are outdated by **years**: http://www.psychopy.org/installation.html)\n",
    "\n",
    "![](psycho.png)\n",
    "\n",
    "### ==> Let's go for an alternative!"
   ]
  },
  {
   "cell_type": "raw",
   "metadata": {},
   "source": [
    "\n",
    "\n",
    "\n",
    "\n",
    "\n",
    "\n",
    "\n",
    "\n",
    "\n",
    "\n"
   ]
  },
  {
   "cell_type": "markdown",
   "metadata": {},
   "source": [
    ".  \n",
    "\n",
    "# Let's think about what we need to make our own experiment:\n",
    "\n",
    "* Graphical User Interface\n",
    "* Stimuli (Visual, auditory, ...)\n",
    "* User Input\n",
    "* Experiment Flow/Design\n",
    "* Data logging\n",
    "* (Serial) Port communication (for eg. EEG-markers)"
   ]
  },
  {
   "cell_type": "markdown",
   "metadata": {},
   "source": [
    "## Graphical User Interfaces\n",
    "\n",
    "There are quite a few libraries for experiments out there besides PsychoPy, and many of them rely on **pyGame** for their visual stimuli, providing more functionality ontop of it. But even for those which don't, the principle of how to put stuff on a screen is equal most of the time anyways.  \n",
    "Let's look into pygame, to understand what's going on there:"
   ]
  },
  {
   "cell_type": "code",
   "execution_count": 3,
   "metadata": {},
   "outputs": [
    {
     "name": "stdout",
     "output_type": "stream",
     "text": [
      "pygame 1.9.5\n",
      "Hello from the pygame community. https://www.pygame.org/contribute.html\n"
     ]
    }
   ],
   "source": [
    "# %load pygame_1.py\n",
    "import pygame\n",
    "\n",
    "def main():\n",
    "\n",
    "    pygame.init()\n",
    "\n",
    "    # load and set the logo\n",
    "    logo = pygame.image.load(\"logo32x32.jpg\")\n",
    "    pygame.display.set_icon(logo)\n",
    "    pygame.display.set_caption(\"minimal program\")\n",
    "\n",
    "    # create a surface on screen that has the size of 240 x 180\n",
    "    screen = pygame.display.set_mode((240,180))\n",
    "\n",
    "    # define a variable to control the main loop\n",
    "    running = True\n",
    "\n",
    "    while running:\n",
    "        # event handling, gets all event from the eventqueue\n",
    "        for event in pygame.event.get():\n",
    "            # only do something if the event is of type QUIT\n",
    "            if event.type == pygame.QUIT:\n",
    "                # change the value to False, to exit the main loop\n",
    "                running = False\n",
    "\n",
    "\n",
    "if __name__==\"__main__\":\n",
    "    main()\n"
   ]
  },
  {
   "cell_type": "markdown",
   "metadata": {},
   "source": [
    "Pygame must at first be **initialized**, before we initialize some settings for the display. Among these the *display mode* is important -- it decides the size of the actual window pygame will open in."
   ]
  },
  {
   "cell_type": "code",
   "execution_count": null,
   "metadata": {},
   "outputs": [],
   "source": [
    "# Creates a surface on screen that has the size of 240 x 180\n",
    "screen = pygame.display.set_mode((240,180))\n",
    "\n",
    "# Stretches this screen such that it's presented in full-screen mode\n",
    "pygame.display.toggle_fullscreen()\n",
    "\n",
    "# Creates a true full-screen Window\n",
    "modes = pygame.display.list_modes(0, pygame.FULLSCREEN)\n",
    "screen=pygame.display.set_mode(modes[0], pygame.FULLSCREEN)"
   ]
  },
  {
   "cell_type": "markdown",
   "metadata": {},
   "source": [
    "Note that GUIs must generally perform *active waiting*, which means they must stay constantly running loop to stay active and to not close. Letting a GUI *sleep* will make it stop responding. In Python, GUIs must additionally generally be in the main *Thread*, which makes multithreaded programming in python even harder.  \n",
    "This busy waiting however leads to the general structure of any game (or, for that matter, experiment): The main **game loop**"
   ]
  },
  {
   "cell_type": "markdown",
   "metadata": {},
   "source": [
    "## Stimuli\n",
    "\n",
    "We cannot have an experiment without anything to show to the user. Let's look at how to present simple stimuli using pygame. \n",
    "Anything visual must first be created as it's own *surface*, before the function *blit()* is used to copy the contents from this surface to another surface. However, doing so only draws on the back buffer where all objects are drawn before they are shown. To actually update the screen from this back buffer, we need to *flip()* the display, which will swap front and back buffer, such that we see what we drew so far, and continue drawing in the background."
   ]
  },
  {
   "cell_type": "markdown",
   "metadata": {},
   "source": [
    "### Images"
   ]
  },
  {
   "cell_type": "code",
   "execution_count": null,
   "metadata": {},
   "outputs": [],
   "source": [
    "# %load pygame_2.py\n",
    "import pygame\n",
    "\n",
    "def main():\n",
    "\n",
    "    pygame.init()\n",
    "\n",
    "    # load and set the logo\n",
    "    logo = pygame.image.load(\"logo32x32.jpg\")\n",
    "    pygame.display.set_icon(logo)\n",
    "    pygame.display.set_caption(\"minimal program\")\n",
    "\n",
    "    # create a surface on screen that has the size of 240 x 180\n",
    "    screen = pygame.display.set_mode((240,180))\n",
    "\n",
    "    image = pygame.image.load(\"logo32x32.jpg\")\n",
    "    screen.blit(image, dest=(50,50))\n",
    "    pygame.display.flip()\n",
    "    \n",
    "\n",
    "\n",
    "if __name__ == \"__main__\":\n",
    "    main()"
   ]
  },
  {
   "cell_type": "markdown",
   "metadata": {},
   "source": [
    "### Text\n",
    "\n",
    "Note that pygame accepts only absolute coordinates on the display. To set a text precisely where you want to have it, you may need to play around with the coordinates or go for relative coordinates yourself."
   ]
  },
  {
   "cell_type": "code",
   "execution_count": null,
   "metadata": {},
   "outputs": [],
   "source": [
    "# %load pygame_3.py\n",
    "import pygame\n",
    "import time\n",
    "\n",
    "\n",
    "BGCOLOR = (0, 0, 0)\n",
    "SCREENSIZE = (800, 600)\n",
    "FONTSIZE = SCREENSIZE[0]//20\n",
    "FONTCOLOR = (255, 255, 255)\n",
    "\n",
    "CENTER = 0\n",
    "NEWLINECENTER = 1\n",
    "BOTTOM = 3\n",
    "TOP = 6\n",
    "\n",
    "\n",
    "def get_position(screen, text_surface, where):\n",
    "    text_width = text_surface.get_width()\n",
    "    text_height = text_surface.get_height()\n",
    "    width = screen.get_width()\n",
    "    height = screen.get_height()\n",
    "    if where == CENTER:\n",
    "        return width/2-text_width/2, height/2-text_height/2\n",
    "    elif where == NEWLINECENTER:\n",
    "        return width/2-text_width/2, 5.0/8*height\n",
    "    elif where == BOTTOM:\n",
    "        return width/2-text_width/2, height-1.5*text_height\n",
    "    elif where == TOP:\n",
    "        return width/2-text_width/2, 1.0/10*height\n",
    "\n",
    "\n",
    "def main():\n",
    "    pygame.init()\n",
    "    screen=pygame.display.set_mode(SCREENSIZE)\n",
    "\n",
    "    screen.fill(BGCOLOR) #erase texts before\n",
    "    font = pygame.font.Font(None, FONTSIZE)\n",
    "    text_surface = font.render(\"Hello, World!\", True, FONTCOLOR, BGCOLOR) #text, antialias, color, background\n",
    "    posx, posy = get_position(screen, text_surface, TOP)\n",
    "    screen.blit(text_surface, dest=(posx, posy))\n",
    "    pygame.display.flip()\n",
    "\n",
    "    time.sleep(5)\n",
    "\n",
    "\n",
    "if __name__ == \"__main__\":\n",
    "    main()"
   ]
  },
  {
   "cell_type": "markdown",
   "metadata": {},
   "source": [
    "### Moving stimuli"
   ]
  },
  {
   "cell_type": "code",
   "execution_count": null,
   "metadata": {},
   "outputs": [],
   "source": [
    "# %load pygame_4.py\n",
    "import pygame\n",
    "import time\n",
    "\n",
    "def main():\n",
    "\n",
    "    pygame.init()\n",
    "\n",
    "    # create a surface on screen that has the size of 240 x 180\n",
    "    screen = pygame.display.set_mode((800, 600))\n",
    "\n",
    "    image = pygame.image.load(\"smiley.jpg\")\n",
    "    image.set_colorkey((255,255,255)) #this color is now transparent\n",
    "\n",
    "    xpos = 50\n",
    "    ypos = 50\n",
    "    step_x = 10\n",
    "    step_y = 10\n",
    "\n",
    "\n",
    "    while True:\n",
    "        if xpos > screen.get_width()-image.get_width() or xpos <= 0: step_x *= -1\n",
    "        if ypos > screen.get_height()-image.get_height() or ypos <= 0: step_y *= -1\n",
    "        xpos += step_x \n",
    "        ypos += step_y\n",
    "        screen.fill((0,0,0))\n",
    "        screen.blit(image, (xpos, ypos))\n",
    "        pygame.display.flip()\n",
    "        time.sleep(0.01)\n",
    "        if any(event.type == pygame.QUIT for event in pygame.event.get()):\n",
    "            break\n",
    "\n",
    "\n",
    "if __name__ == \"__main__\":\n",
    "    main()\n"
   ]
  },
  {
   "cell_type": "markdown",
   "metadata": {},
   "source": [
    "In fact, if you wanted high performance, you'd work with so-called *dirty rectangles*, allowing you to only update part of the screen instead of flipping the entire screen (see eg. https://dr0id.bitbucket.io/legacy/pygame_tutorial01.html)"
   ]
  },
  {
   "cell_type": "markdown",
   "metadata": {},
   "source": [
    "### Sounds"
   ]
  },
  {
   "cell_type": "code",
   "execution_count": null,
   "metadata": {},
   "outputs": [],
   "source": [
    "import pygame \n",
    "\n",
    "pygame.mixer.pre_init(44100, 16, 2, 4096) #frequency, size, channels, buffersize\n",
    "pygame.init()\n",
    "effect = pygame.mixer.Sound('beep.wav')\n",
    "effect.play()"
   ]
  },
  {
   "cell_type": "markdown",
   "metadata": {},
   "source": [
    "## User Input"
   ]
  },
  {
   "cell_type": "markdown",
   "metadata": {},
   "source": [
    "User Input is also an *event*, just like pressing the [x] at the top-right corner. More precisely, a keypress is an event of type pygame.KEYDOWN. That means, if we encounter an event of such a type, we can check for which key it is.  \n",
    "For a list of all pyGame-keys, have a look at https://docs.python.org/2.4/lib/node267.html."
   ]
  },
  {
   "cell_type": "code",
   "execution_count": null,
   "metadata": {},
   "outputs": [],
   "source": [
    "def wait_any_key():\n",
    "    while True:\n",
    "        for event in pygame.event.get():\n",
    "            if event.type == pygame.KEYDOWN:\n",
    "                if event.key == pygame.K_ESCAPE:\n",
    "                    return False\n",
    "                else:\n",
    "                    return event.key  #returns key numbers\n",
    "            elif event.type == pygame.QUIT:\n",
    "                return False\n",
    "\n",
    "\n",
    "def wait_key(which):\n",
    "    while True:\n",
    "        for event in pygame.event.get():\n",
    "            if event.type == pygame.KEYDOWN:\n",
    "                if event.key == pygame.K_ESCAPE:\n",
    "                    return False\n",
    "                elif event.key == which:\n",
    "                    return True\n",
    "            elif event.type == pygame.QUIT:\n",
    "                return False"
   ]
  },
  {
   "cell_type": "markdown",
   "metadata": {},
   "source": [
    "As the ```wait_any_key()``` and ```wait_key()```-functions are what's left from the *game loop* of the previous examples, namely the parts where the process is *actively waiting*, they are responsible for allowing the user to quit. If [ESC] or [x] is pressed, these functions return ```false```, signalling the caller that the process should be terminated."
   ]
  },
  {
   "cell_type": "markdown",
   "metadata": {},
   "source": [
    "## Putting it together\n",
    "\n",
    "Let's use what we know so far to make a sample 'Experiment': The subject is supposed to press [left] for even numbers, and [right] for odd numbers. As we only looked at the GUI so far, we don't measure response times or save the results somehow, but simply play a sound when the subject was wrong."
   ]
  },
  {
   "cell_type": "code",
   "execution_count": null,
   "metadata": {},
   "outputs": [],
   "source": [
    "# %load pygame_5.py\n",
    "import pygame\n",
    "import time\n",
    "import random\n",
    "\n",
    "\n",
    "BGCOLOR = (0, 0, 0)\n",
    "SCREENSIZE = (800, 600)\n",
    "FONTSIZE = SCREENSIZE[0]//20\n",
    "FONTCOLOR = (255, 255, 255)\n",
    "\n",
    "CENTER = 0\n",
    "NEWLINECENTER = 1\n",
    "BOTTOM = 3\n",
    "TOP = 6\n",
    "\n",
    "\n",
    "def get_position(screen, text_surface, where):\n",
    "    text_width = text_surface.get_width()\n",
    "    text_height = text_surface.get_height()\n",
    "    width = screen.get_width()\n",
    "    height = screen.get_height()\n",
    "    if where == CENTER:\n",
    "        return width/2-text_width/2, height/2-text_height/2\n",
    "    elif where == NEWLINECENTER:\n",
    "        return width/2-text_width/2, 5.0/8*height\n",
    "    elif where == BOTTOM:\n",
    "        return width/2-text_width/2, height-1.5*text_height\n",
    "    elif where == TOP:\n",
    "        return width/2-text_width/2, 1.0/10*height\n",
    "\n",
    "\n",
    "def wait_any_key():\n",
    "    while True:\n",
    "        for event in pygame.event.get():\n",
    "            if event.type == pygame.KEYDOWN:\n",
    "                if event.key == pygame.K_ESCAPE:\n",
    "                    return False\n",
    "                else:\n",
    "                    return event.key  #returns key numbers\n",
    "            elif event.type == pygame.QUIT:\n",
    "                return False\n",
    "\n",
    "\n",
    "def wait_key(which):\n",
    "    while True:\n",
    "        for event in pygame.event.get():\n",
    "            if event.type == pygame.KEYDOWN:\n",
    "                if event.key == pygame.K_ESCAPE:\n",
    "                    return False\n",
    "                elif event.key == which:\n",
    "                    return True\n",
    "            elif event.type == pygame.QUIT:\n",
    "                return False\n",
    "\n",
    "\n",
    "def main():\n",
    "    pygame.mixer.pre_init(44100, 16, 2, 4096) #frequency, size, channels, buffersize\n",
    "    pygame.init()\n",
    "    screen=pygame.display.set_mode(SCREENSIZE)\n",
    "\n",
    "    screen.fill(BGCOLOR)\n",
    "    font = pygame.font.Font(None, FONTSIZE)\n",
    "    smallfont = pygame.font.Font(None, FONTSIZE*3//4)\n",
    "\n",
    "    intro_text = font.render(\"Press <left> for even numbers, and <right> else!\", True, FONTCOLOR, BGCOLOR)\n",
    "    posx, posy = get_position(screen, intro_text, CENTER)\n",
    "    screen.blit(intro_text, (posx, posy))\n",
    "    other_text = smallfont.render(\"Space to continue\", True, FONTCOLOR, BGCOLOR)\n",
    "    posx, posy = get_position(screen, other_text, NEWLINECENTER)\n",
    "    screen.blit(other_text, (posx, posy))\n",
    "    pygame.display.flip()\n",
    "\n",
    "    if not wait_key(pygame.K_SPACE):\n",
    "        return\n",
    "\n",
    "    effect = pygame.mixer.Sound('beep.wav')\n",
    "    num = None\n",
    "    for i in range(4):\n",
    "        pre_num = num\n",
    "        while pre_num == num:\n",
    "            num = random.randint(1, 9)\n",
    "        screen.fill(BGCOLOR)\n",
    "        number = font.render(str(num), True, FONTCOLOR, BGCOLOR)\n",
    "        posx, posy = get_position(screen, number, CENTER)\n",
    "        screen.blit(number, (posx, posy))\n",
    "        pygame.display.flip()\n",
    "        key = wait_any_key()\n",
    "        if not key:\n",
    "            return\n",
    "        elif (key == pygame.K_LEFT and num % 2 != 0) or (key == pygame.K_RIGHT and num % 2 == 0):\n",
    "            effect.play()\n",
    "\n",
    "\n",
    "if __name__ == \"__main__\":\n",
    "    main()\n"
   ]
  },
  {
   "cell_type": "raw",
   "metadata": {},
   "source": [
    "\n",
    "\n",
    "\n",
    "\n",
    "\n",
    "\n",
    "\n"
   ]
  },
  {
   "cell_type": "markdown",
   "metadata": {},
   "source": [
    "# Expyriment\n",
    "\n",
    "While we don't show PsychoPy here (ノಠ益ಠ彡┻━┻), there are other libraries that work better and provide better compability, while being almost equally powerful. The one we're looking at today is **Expyriment**.  \n",
    "\n",
    "It is a pure programming library (providing no GUI), is leightweight, entirely written in python, and has almost no dependencies... and can simply be installed with *pip install expyriment*. \n",
    "\n",
    "Expyriment builds on top of Pygame (like many similar libraries), and has a similar way of initializing a GUI, presenting stimuli, and working with user input. It further gives the possibility to explicitly define experimental designs, automatically saves everything necessary, provides useful functions like an accurate timer, and wraps the entire framework into pre-provided control structure.  \n",
    "\n",
    "Expyriment is an all-in-one solution, and as such it is responsible for\n",
    "* Stimulus presentation\n",
    "* Recording of input/output events\n",
    "* Communication with other devices\n",
    "* Collection and preprocessing of data\n",
    "* Experiment design\n",
    "\n",
    "![](Expyriment.png)\n",
    "\n",
    "Figure source: Krause, F. & Lindemann, O. (2014). Expyriment: A Python library for cognitive and neuroscientific experiments. Behavior Research Methods, 46(2), 416-428. doi:10.3758/s13428-013-0390-6."
   ]
  },
  {
   "cell_type": "markdown",
   "metadata": {},
   "source": [
    "All of Expyriment's modules can be used independently of each other - the structure for experimental designs is independend of the presentation software actually used, such that you can use other software for presentation of stimuli, or experimental control, ... "
   ]
  },
  {
   "cell_type": "markdown",
   "metadata": {},
   "source": [
    "## Experiment Control\n",
    "\n",
    "Every Expyriment-experiment adheres to the main control structure, as specified by the ```control```-package.\n",
    "\n",
    "The control-package provides access to an experiment screen, keyboard, log file, clock and device communication.\n",
    "\n",
    "Expyriment has three Landmarks for an experiment: initialize(), start(), and end(). \n",
    "* Initialize() starts up the screen (exp.screen), a keyboard (exp.keyboard), an event log file logging stimulus presentation times & device communications, (exp.events), and an experimental clock (exp.clock)\n",
    "* Start() asks for a subject ID (saved as exp.subject) and creates a data file object (exp.data)\n",
    "* Between start() and end() you iterate your hierachical design (experiment $\\rightarrow$ blocks $\\rightarrow$ trials)\n",
    "* End() ends an experiment and saves tha data and log files"
   ]
  },
  {
   "cell_type": "code",
   "execution_count": null,
   "metadata": {},
   "outputs": [],
   "source": [
    "from expyriment import design, control\n",
    "from time import sleep\n",
    "\n",
    "# create experiment object\n",
    "exp = design.Experiment(name=\"My Experiment\")\n",
    "\n",
    "# initialize experiment object and make it active experiment\n",
    "# this will show a startup screen\n",
    "# it will also initialize exp.screen, exp.mouse, exp.keyboard, exp.event and exp.clock\n",
    "control.initialize(exp)\n",
    "\n",
    "sleep(2)\n",
    "# this will present a subject number screen and a ready screen after initialization\n",
    "# is completely finished\n",
    "control.start()\n",
    "\n",
    "sleep(2)\n",
    "                        \n",
    "# this will show an \"ending experiment\" screen and save data\n",
    "control.end()"
   ]
  },
  {
   "cell_type": "markdown",
   "metadata": {},
   "source": [
    "While an interactive kernel like Jupyter asks us for the mode, in a normal script you'd always be fullscreen - as long as you don't specify otherwise:"
   ]
  },
  {
   "cell_type": "code",
   "execution_count": null,
   "metadata": {},
   "outputs": [],
   "source": [
    "exp = design.Experiment(name=\"My Experiment\")\n",
    "control.set_develop_mode(True)\n",
    "\n",
    "control.initialize(exp)\n",
    "sleep(2)\n",
    "control.start()\n",
    "control.end()"
   ]
  },
  {
   "cell_type": "markdown",
   "metadata": {},
   "source": [
    "## Stimuli\n",
    "\n",
    "Expyriment contains classes for visual and auditory stimuli. \n",
    "\n",
    "Unlike Pygame, you don't need to flip the buffer for the stimuli to be actually shown on the screen. This is because of Expyriment's present-function:  \n",
    "```present(clear=True, update=True, log_event_tag=None)```  \n",
    "where ```clear``` clears the buffers before drawing, and ```update``` flips the buffer after drawing.\n",
    "\n",
    "Furthermore, you can (and should) preload the stimuli, such that they are fully loaded upon presentation."
   ]
  },
  {
   "cell_type": "markdown",
   "metadata": {},
   "source": [
    "To show a few different stimuli in Expyriment without having to write the usual control-landmarks, let's make a context manager for the control (Please don't do that when actually working with it, this is only for presentation!):"
   ]
  },
  {
   "cell_type": "code",
   "execution_count": null,
   "metadata": {},
   "outputs": [],
   "source": [
    "from expyriment import design, control, stimuli, misc\n",
    "control.set_develop_mode(True)\n",
    "\n",
    "class StimuliDemo:\n",
    "    \n",
    "    def __init__(self, name):\n",
    "        exp = design.Experiment(name=name)\n",
    "        control.initialize(exp)\n",
    "        self.exp = exp\n",
    "\n",
    "    def __enter__(self):\n",
    "        control.start()\n",
    "        return self.exp\n",
    "\n",
    "    def __exit__(self, *args):\n",
    "        control.end()"
   ]
  },
  {
   "cell_type": "markdown",
   "metadata": {},
   "source": [
    "#### Text"
   ]
  },
  {
   "cell_type": "code",
   "execution_count": null,
   "metadata": {},
   "outputs": [],
   "source": [
    "with StimuliDemo(\"Experiment\") as exp:\n",
    "    target = stimuli.TextLine(text=\"I am a text!\", text_size=80)\n",
    "    stimuli.FixCross().present()\n",
    "    target.preload()\n",
    "    exp.clock.wait(1000)\n",
    "    target.present()\n",
    "    exp.clock.wait(1000)"
   ]
  },
  {
   "cell_type": "markdown",
   "metadata": {},
   "source": [
    "#### Sounds"
   ]
  },
  {
   "cell_type": "code",
   "execution_count": null,
   "metadata": {},
   "outputs": [],
   "source": [
    "with StimuliDemo(\"Experiment\") as exp:\n",
    "    stimuli.Tone(duration=200, frequency=2000).play()\n",
    "    exp.clock.wait(1000)"
   ]
  },
  {
   "cell_type": "markdown",
   "metadata": {},
   "source": [
    "#### Objects"
   ]
  },
  {
   "cell_type": "code",
   "execution_count": null,
   "metadata": {},
   "outputs": [],
   "source": [
    "with StimuliDemo(\"Experiment\") as exp: \n",
    "    target = stimuli.Rectangle([50, 50], position=[20, 20], colour=misc.constants.C_RED)\n",
    "    #target.preload()\n",
    "    target.present()\n",
    "    exp.clock.wait(1000)"
   ]
  },
  {
   "cell_type": "markdown",
   "metadata": {},
   "source": [
    "#### Multiple objects\n",
    "If we want to draw multiple objects on the same buffer, we must \n",
    "* Clear the screen for the first object, without flipping buffers\n",
    "* Don't clear the screen and don't flip buffers for objects in between\n",
    "* Don't clear the screen, but flip buffers, for the last object"
   ]
  },
  {
   "cell_type": "code",
   "execution_count": null,
   "metadata": {},
   "outputs": [],
   "source": [
    "with StimuliDemo(\"Experiment\") as exp: \n",
    "    stim1 = stimuli.Circle(radius=25, colour=(255, 255, 255), position=[-100,0])\n",
    "    stim2 = stimuli.Circle(radius=25, colour=(255, 255, 255), position=[100,0])\n",
    "    stim1.present(clear=True, update=False)\n",
    "    stim2.present(clear=False, update=True)\n",
    "    exp.clock.wait(3000)"
   ]
  },
  {
   "cell_type": "markdown",
   "metadata": {},
   "source": [
    "#### Complex objects"
   ]
  },
  {
   "cell_type": "code",
   "execution_count": null,
   "metadata": {},
   "outputs": [],
   "source": [
    "with StimuliDemo(\"Experiment\") as exp:    \n",
    "    button = stimuli.Rectangle(size=(40,20), position=(exp.screen.size[0]//2-25, 15-exp.screen.size[1]//2))\n",
    "    button_text = stimuli.TextLine(text=\"ok\", position=button.position, text_colour=misc.constants.C_WHITE)\n",
    "    canvas = stimuli.BlankScreen()\n",
    "    button.plot(canvas)\n",
    "    button_text.plot(canvas)\n",
    "    canvas.present()\n",
    "    exp.clock.wait(5000)"
   ]
  },
  {
   "cell_type": "markdown",
   "metadata": {},
   "source": [
    "## Defaults\n",
    "\n",
    "Expyriment works with a defaults-system for all its values (font, background-color, ...). Every package of Expyriment contains a ```defaults```-object, where these values can be overwritten."
   ]
  },
  {
   "cell_type": "raw",
   "metadata": {},
   "source": [
    "<don't forget to restart Kernel>"
   ]
  },
  {
   "cell_type": "code",
   "execution_count": null,
   "metadata": {},
   "outputs": [],
   "source": [
    "from expyriment import design, control, stimuli\n",
    "from time import sleep\n",
    "control.set_develop_mode(False)\n",
    "\n",
    "control.defaults.window_mode = True # True corresponds to windowed\n",
    "control.defaults.window_size = [800,600] # 800x600 resolution\n",
    "# we are going to change the default background color for this experiment\n",
    "# however this can also be changed later after initialization using exp.screen.colour()\n",
    "\n",
    "design.defaults.experiment_background_colour = (230,230,70)\n",
    "\n",
    "exp = design.Experiment(name=\"Cool Experiment\")\n",
    "control.initialize(exp)\n",
    "control.start()\n",
    "stimuli.FixCross().present()\n",
    "exp.clock.wait(1000)\n",
    "control.end()"
   ]
  },
  {
   "cell_type": "raw",
   "metadata": {},
   "source": [
    "<don't forget to restart Kernel>"
   ]
  },
  {
   "cell_type": "code",
   "execution_count": null,
   "metadata": {},
   "outputs": [],
   "source": [
    "from expyriment import design, control, stimuli, misc, io\n",
    "control.set_develop_mode(True)\n",
    "\n",
    "class StimuliDemo:\n",
    "    \n",
    "    def __init__(self, name):\n",
    "        exp = design.Experiment(name=name)\n",
    "        control.initialize(exp)\n",
    "        self.exp = exp\n",
    "\n",
    "    def __enter__(self):\n",
    "        control.start()\n",
    "        return self.exp\n",
    "\n",
    "    def __exit__(self, *args):\n",
    "        control.end()"
   ]
  },
  {
   "cell_type": "markdown",
   "metadata": {},
   "source": [
    "## User Input\n",
    "\n",
    "Expyriment's IO module is for logging as well as user-input. It can also be used independently from other packages, to get eg. mouse presses or serial port communication."
   ]
  },
  {
   "cell_type": "markdown",
   "metadata": {},
   "source": [
    "### Keyboard.wait()\n",
    "\n",
    "As mentioned above, every initialized experiment has access to the keyboard-object, which contains the method wait():  \n",
    "```wait(keys=None, duration=None, wait_for_keyup=False, callback_function=None, process_control_events=True)```\n",
    "\n",
    "As arguments, you can specify which keys to look for, if you want to wait for a key-release, you can specify a callback-function upon clicking, and you can set a timeout until its's no longer waited for the keypress.\n",
    "\n",
    "The result is a tuple of (clicked character, reaction-time in ms)"
   ]
  },
  {
   "cell_type": "code",
   "execution_count": null,
   "metadata": {},
   "outputs": [],
   "source": [
    "with StimuliDemo(\"Experiment\") as exp:  \n",
    "    target = stimuli.TextLine(text=\"Any key to continue.\", text_size=60)\n",
    "    target.present()\n",
    "    button, time = exp.keyboard.wait()\n",
    "\n",
    "print(button)\n",
    "print(time)\n",
    "print(button == misc.constants.K_BACKSPACE)"
   ]
  },
  {
   "cell_type": "markdown",
   "metadata": {},
   "source": [
    "![](ascii_table.png)"
   ]
  },
  {
   "cell_type": "markdown",
   "metadata": {},
   "source": [
    "All key- and color-constants can be found in Expyriment's documentation: https://docs.expyriment.org/expyriment.misc.constants.html"
   ]
  },
  {
   "cell_type": "markdown",
   "metadata": {},
   "source": [
    "### Mouse input:"
   ]
  },
  {
   "cell_type": "code",
   "execution_count": null,
   "metadata": {},
   "outputs": [],
   "source": [
    "with StimuliDemo(\"Experiment\") as exp:  \n",
    "    while True:\n",
    "        exp.mouse.show_cursor()  \n",
    "        button = stimuli.Rectangle(size=(50,20), position=(exp.screen.size[0]//2-35, 15-exp.screen.size[1]//2))\n",
    "        button_text = stimuli.TextLine(text=\"close\", position=button.position, text_colour=misc.constants.C_WHITE)\n",
    "        canvas = stimuli.BlankScreen()\n",
    "        button.plot(canvas)\n",
    "        button_text.plot(canvas)\n",
    "        canvas.present()\n",
    "        bid, pos, _rt = exp.mouse.wait_press()\n",
    "        if bid == 0 and button.overlapping_with_position(pos):\n",
    "            break"
   ]
  },
  {
   "cell_type": "markdown",
   "metadata": {},
   "source": [
    "# Experiment Design\n",
    "\n",
    "Everybody who already participated in an experiment should be familiar with the basic structure of an experiment -- Some stimulus is shown in a multitude of similar or equal versions in a random order, sometimes mixed with distractors. Each display of a stimulus is a *trial*. Often, experiments are split up into multiple *blocks*, showing different versions of the stimuli.  \n",
    " \n",
    "The general order is thus:\n",
    "\n",
    "* There is an experiment (what's returned by ```design.experiment()```)\n",
    "  * The experiments consist of blocks\n",
    "    * Every block consists of trials\n",
    "      * (The trials probably contain one or more stimuli)"
   ]
  },
  {
   "cell_type": "code",
   "execution_count": null,
   "metadata": {},
   "outputs": [],
   "source": [
    "%run simon_task_short"
   ]
  },
  {
   "cell_type": "markdown",
   "metadata": {},
   "source": [
    "### Expyriment's Design-package\n",
    "* Contains classes describing experimental structures $\\Rightarrow$ Hierachy between experiment, exp. blocks. exp. trials\n",
    "* Allows for between-subject-factors, that are different dependent on the subject-ID\n",
    "* Can export everything to be used by other packages, can thus be used stand-alone"
   ]
  },
  {
   "cell_type": "markdown",
   "metadata": {},
   "source": [
    "The design of an experiment is specified before calling ```control.start()```, such that in the actual experiment, it is enough to loop over all ```blocks``` and ```trials```, loading and presenting the stimuli from the trials:"
   ]
  },
  {
   "cell_type": "code",
   "execution_count": null,
   "metadata": {},
   "outputs": [],
   "source": [
    "from expyriment import design, control, stimuli, misc, io\n",
    "\n",
    "exp = design.Experiment(name=\"My Experiment\")\n",
    "control.initialize(exp)\n",
    "\n",
    "block1 = design.Block(name=\"Block1\")\n",
    "trial1 = design.Trial()\n",
    "stimu1 = stimuli.Circle(50)\n",
    "\n",
    "trial1.add_stimulus(stimu1)\n",
    "block1.add_trial(trial1)\n",
    "exp.add_block(block1)\n",
    "\n",
    "control.start()\n",
    "\n",
    "for block in exp.blocks:\n",
    "    for trial in block.trials:\n",
    "        for stimulus in trial.stimuli: #this is just an example, you probably wouldn't present the stimuli consecutively.b\n",
    "            stimulus.present() \n",
    "            exp.clock.wait(500)\n",
    "            \n",
    "control.end()            "
   ]
  },
  {
   "cell_type": "markdown",
   "metadata": {},
   "source": [
    "Blocks and Trials can have ```Factors```. A factor is a simple key-value-pair, that can be used to store information about a Block or Trial, such that you can restore this information throughout the experiment, and use it to display custom things and to log conditions of blocks and trials."
   ]
  },
  {
   "cell_type": "code",
   "execution_count": null,
   "metadata": {},
   "outputs": [],
   "source": [
    "from expyriment import design, control, stimuli, misc, io\n",
    "from time import sleep\n",
    "\n",
    "exp = design.Experiment(name=\"My Experiment\")\n",
    "control.initialize(exp)\n",
    "\n",
    "blankscreen = stimuli.BlankScreen(colour=(0,0,0))\n",
    "blankscreen.preload()\n",
    "\n",
    "block1 = design.Block(name=\"Block1\")\n",
    "block1.set_factor(\"Color\", \"green\")\n",
    "trial = design.Trial()\n",
    "stimulus = stimuli.Circle(50, colour = misc.constants.C_GREEN)\n",
    "trial.add_stimulus(stimulus)\n",
    "block1.add_trial(trial, copies = 2)\n",
    "exp.add_block(block1)\n",
    "\n",
    "block2 = design.Block(name=\"Block2\")\n",
    "block2.set_factor(\"Color\", \"red\")\n",
    "trial = design.Trial()\n",
    "stimulus = stimuli.Circle(50, colour = misc.constants.C_RED)\n",
    "trial.add_stimulus(stimulus)\n",
    "block2.add_trial(trial, copies = 2)\n",
    "exp.add_block(block2)\n",
    "\n",
    "control.start()\n",
    "                        \n",
    "for block in exp.blocks:\n",
    "    print(\"Now we're printing\", block.get_factor(\"Color\"), \"Circles.\")\n",
    "    for trial in block.trials:\n",
    "        trial.stimuli[0].present()\n",
    "        exp.clock.wait(500)\n",
    "        blankscreen.present()\n",
    "        exp.clock.wait(500)\n",
    "        \n",
    "        \n",
    "control.end()"
   ]
  },
  {
   "cell_type": "markdown",
   "metadata": {},
   "source": [
    "Of course, you'd normally set blocks and trials algorithmically in a loop."
   ]
  },
  {
   "cell_type": "code",
   "execution_count": null,
   "metadata": {},
   "outputs": [],
   "source": [
    "from expyriment import design, control, stimuli, misc, io\n",
    "from time import sleep\n",
    "\n",
    "exp = design.Experiment(name=\"My Experiment\")\n",
    "control.initialize(exp)\n",
    "\n",
    "for name, color in [[\"green\", misc.constants.C_GREEN], [\"red\", misc.constants.C_RED]]:\n",
    "    block = design.Block(name=name.capitalize()+\" Stimuli\")\n",
    "    block.set_factor(\"Color\", name)\n",
    "    for where in [[\"left\", -300], [\"right\", 300]]:\n",
    "        t = design.Trial()\n",
    "        t.set_factor(\"Position\", where[0])\n",
    "        s = stimuli.Rectangle([50, 50], position=[where[1], 0], colour=color)\n",
    "        t.add_stimulus(s)\n",
    "        block.add_trial(t)   \n",
    "    exp.add_block(block)\n",
    "        \n",
    "control.start()\n",
    "                        \n",
    "for block in exp.blocks:\n",
    "    for trial in block.trials:\n",
    "        trial.stimuli[0].present()\n",
    "        exp.clock.wait(1000)\n",
    "        \n",
    "        \n",
    "control.end()"
   ]
  },
  {
   "cell_type": "markdown",
   "metadata": {},
   "source": [
    "Blocks also provide the possibility to shuffle trials with it's method ```shuffle_trials(method=0, max_repetitions=None, n_segments=None)```. Note that this method even allows a possibility to not repeat too many equal trials inside a block! More on that below."
   ]
  },
  {
   "cell_type": "markdown",
   "metadata": {},
   "source": [
    "You can use the design-package alone and export the designs for other libraries:"
   ]
  },
  {
   "cell_type": "code",
   "execution_count": null,
   "metadata": {},
   "outputs": [],
   "source": [
    "from expyriment import design, control, stimuli, misc, io\n",
    "\n",
    "exp = design.Experiment('Example experiment')\n",
    "block1 = design.Block('Experimental block')\n",
    "for cond in ['A', 'B', 'C']:\n",
    "    trial = design.Trial()\n",
    "    trial.set_factor('Condition', cond)\n",
    "    block1.add_trial(trial, copies=5)\n",
    "block2 = block1.copy()\n",
    "block1.shuffle_trials()\n",
    "block2.shuffle_trials()\n",
    "exp.add_block(block1)\n",
    "exp.add_block(block2)\n",
    "\n",
    "exp.save_design('demodesign.csv')"
   ]
  },
  {
   "cell_type": "markdown",
   "metadata": {},
   "source": [
    "Note that we didn't add any stimuli here. Unfortunately, Expyriment does not allow to save stimuli to a csv."
   ]
  },
  {
   "cell_type": "code",
   "execution_count": null,
   "metadata": {},
   "outputs": [],
   "source": [
    "%cat demodesign.csv"
   ]
  },
  {
   "cell_type": "markdown",
   "metadata": {},
   "source": [
    "#### Between-Subject-Factors\n",
    "\n",
    "In many studies, it is necessary to provide different stimuli for different subjects. In expyriment, this are simply factors that are supposed to be different **B**et**W**een **S**ubjects. Expyriment allows to differ between subjects, based on their subject-ID: The between-subjects-factor is coupled to the subject ID that was assigned when the experiment was started."
   ]
  },
  {
   "cell_type": "code",
   "execution_count": null,
   "metadata": {},
   "outputs": [],
   "source": [
    "import pandas as pd\n",
    "df = pd.read_csv(\"bws_study.csv\", sep=';')\n",
    "df"
   ]
  },
  {
   "cell_type": "code",
   "execution_count": null,
   "metadata": {},
   "outputs": [],
   "source": [
    "from expyriment import design, control, stimuli, misc, io\n",
    "from time import sleep\n",
    "import pandas as pd\n",
    "\n",
    "control.set_develop_mode(False)\n",
    "control.defaults.window_mode = True\n",
    "control.defaults.window_size = [800,600]\n",
    "control.defaults.initialize_delay = 0\n",
    "\n",
    "exp = design.Experiment(name=\"My Experiment\")\n",
    "control.initialize(exp)\n",
    "\n",
    "conditions = pd.read_csv(\"bws_study.csv\", sep=';').dropna().groupby(\"Condition\")\n",
    "for nr, data in conditions:\n",
    "    block = design.Block(name=\"Condition\"+str(int(nr)))\n",
    "    block.set_factor(\"Condition\", nr)\n",
    "    for nr, sents in data.iterrows():\n",
    "        t = design.Trial()\n",
    "        t.set_factor(\"ItemNum\", sents[\"Item\"])\n",
    "        for sent in [\"S1\", \"S2\", \"S3\", \"S4\", \"S5\", \"S6\", \"S7\"]:\n",
    "            s = stimuli.TextLine(text=sents[sent], text_size=20)\n",
    "            t.add_stimulus(s)\n",
    "        block.add_trial(t)\n",
    "    exp.add_block(block)\n",
    "    \n",
    "exp.add_bws_factor(\"FallsWennCondition\", [\"Wenn-Condition\", \"Falls-Condition\"])\n",
    "exp.add_bws_factor(\"GabGabCondition\", [\"GabGab-Condition\", \"GabnichtGab-Condition\"])\n",
    "\n",
    "\n",
    "control.start()\n",
    "\n",
    "names_to_ids = {block.name:block.id for block in exp.blocks}\n",
    "if exp.get_permuted_bws_factor_condition(\"FallsWennCondition\") == \"Wenn-Condition\":\n",
    "    to_delete = set([\"Condition2\", \"Condition6\"])\n",
    "else:\n",
    "    to_delete = set([\"Condition1\", \"Condition5\"])\n",
    "    \n",
    "if exp.get_permuted_bws_factor_condition(\"GabGabCondition\") == \"GabGab-Condition\":\n",
    "    to_delete.update([\"Condition5\", \"Condition6\"])\n",
    "else:\n",
    "    to_delete.update([\"Condition1\", \"Condition2\"])\n",
    "    \n",
    "for i in to_delete:\n",
    "    exp.remove_block(exp.find_block(names_to_ids[i])[0])\n",
    "    \n",
    "print(\"Condition for you:\", [i.name for i in exp.blocks])\n",
    "print(exp.get_permuted_bws_factor_condition(\"GabGabCondition\"))\n",
    "print(exp.get_permuted_bws_factor_condition(\"FallsWennCondition\"))\n",
    "    \n",
    "for block in exp.blocks:\n",
    "    for trial in block.trials:\n",
    "        trial.stimuli[2].present()\n",
    "        exp.clock.wait(1000)\n",
    "        trial.stimuli[4].present()\n",
    "        exp.clock.wait(1000)\n",
    "        \n",
    "        \n",
    "control.end()"
   ]
  },
  {
   "cell_type": "raw",
   "metadata": {},
   "source": [
    "\n",
    "\n",
    "\n",
    "\n",
    "\n"
   ]
  },
  {
   "cell_type": "markdown",
   "metadata": {},
   "source": [
    "## Measuring time\n",
    "\n",
    "Accurate timing of stimuli and IO as well as measuring response times is crucial for all kinds of experiments, so be aware of how you measure time!  \n",
    "  \n",
    "A standard way of measuring time is:"
   ]
  },
  {
   "cell_type": "code",
   "execution_count": null,
   "metadata": {},
   "outputs": [],
   "source": [
    "import time\n",
    "start = time.time()\n",
    "time.sleep(1)\n",
    "print(\"This took \" + str(time.time()-start) + \" seconds\")"
   ]
  },
  {
   "cell_type": "markdown",
   "metadata": {},
   "source": [
    "While generally a good idea, Python's time()-function may not be as accurate as you may think!  \n",
    "\n",
    "For Linux and Mac, time.time()'s precision is around +-0.001 milliseconds.  \n",
    "For Windows, the precision +- 16 milliseconds precision due to clock implementation problems due to process interrupts.\n",
    "[source](https://stackoverflow.com/questions/1938048/high-precision-clock-in-python/38256446#38256446)\n",
    "\n",
    "For measuring time differences, Python provides the performance-counter, that uses the most accurate measure of time your system provides (in the case of windows, one that doesn't rely on the windows clock)"
   ]
  },
  {
   "cell_type": "code",
   "execution_count": null,
   "metadata": {},
   "outputs": [],
   "source": [
    "start = time.perf_counter()\n",
    "time.sleep(1)\n",
    "print(\"This took \" + str(time.perf_counter()-start) + \" seconds\")"
   ]
  },
  {
   "cell_type": "markdown",
   "metadata": {},
   "source": [
    "But keep in mind that there are differences among CPUs and even operating systems!  \n",
    "Another caveat is using time.clock() which, amongst the fact that it's deprecated since Python 3.3, behaves completely different on Windows and Unix:\n",
    "\n",
    "```On Unix, return the current processor time as a floating point number expressed in seconds. The precision, and in fact the very definition of the meaning of “processor time”, depends on that of the C function of the same name, but in any case, this is the function to use for benchmarking Python or timing algorithms.```  \n",
    "```On Windows, this function returns wall-clock seconds elapsed since the first call to this function, as a floating point number, based on the Win32 function QueryPerformanceCounter(). The resolution is typically better than one microsecond.``` [(see also)](https://stackoverflow.com/questions/25773901/understanding-time-clock-and-time-time)"
   ]
  },
  {
   "cell_type": "code",
   "execution_count": null,
   "metadata": {},
   "outputs": [],
   "source": [
    "import time\n",
    "start = time.clock()\n",
    "time.sleep(1)\n",
    "print(\"This took \" + str(time.clock()-start) + \" seconds\")"
   ]
  },
  {
   "cell_type": "markdown",
   "metadata": {},
   "source": [
    "### Pygame and timing"
   ]
  },
  {
   "cell_type": "markdown",
   "metadata": {},
   "source": [
    "Pygame provides explicit information about the precision of its own stopwatch on your platform:"
   ]
  },
  {
   "cell_type": "code",
   "execution_count": null,
   "metadata": {},
   "outputs": [],
   "source": [
    "import pygame\n",
    "print(\"Pygame's timer resolution is:\", pygame.TIMER_RESOLUTION, \"milliseconds.\")"
   ]
  },
  {
   "cell_type": "markdown",
   "metadata": {},
   "source": [
    "### Expyriment and timing"
   ]
  },
  {
   "cell_type": "markdown",
   "metadata": {},
   "source": [
    "Expyriment's measurement of response times fortunately automatically uses the most accurate timers available.  \n",
    "Further, expyriment provides its own stopwatch (```exp.clock```), that **should be used at all times in an experiment.**   \n",
    "To quote their paper: ```\"Since Python wraps C functions for getting the system time, the accuracy is even more precise than milliseconds (which is the unit Expyriment uses).\"```"
   ]
  },
  {
   "cell_type": "code",
   "execution_count": null,
   "metadata": {},
   "outputs": [],
   "source": [
    "from expyriment import design, control, stimuli, misc, io\n",
    "control.set_develop_mode(True)\n",
    "\n",
    "class StimuliDemo:\n",
    "    \n",
    "    def __init__(self, name):\n",
    "        exp = design.Experiment(name=name)\n",
    "        control.initialize(exp)\n",
    "        self.exp = exp\n",
    "\n",
    "    def __enter__(self):\n",
    "        control.start()\n",
    "        return self.exp\n",
    "\n",
    "    def __exit__(self, *args):\n",
    "        control.end()"
   ]
  },
  {
   "cell_type": "code",
   "execution_count": null,
   "metadata": {},
   "outputs": [],
   "source": [
    "with StimuliDemo(\"Experiment\") as exp:    \n",
    "    target = stimuli.TextLine(text=\"I am a text!\", text_size=80)\n",
    "    target.preload()\n",
    "    target.present()\n",
    "    exp.clock.wait(500)"
   ]
  },
  {
   "cell_type": "markdown",
   "metadata": {},
   "source": [
    "It is important to know if expyriment presents stimuli accurately on time.\n",
    "\n",
    "Expyriment synchronizes visual stimulus presentation to the refresh rate of the display $\\rightarrow$ time a stimulus is allgedly presented is the one you actually see it\n",
    "* Pygame doesn't do that, which is why it has several milliseconds uncertainty!\n",
    "* video latency is 0 ms (17ms max update interval on 60hz screen)\n",
    "* audio latency is between 15 and 20 ms\n",
    "* serial port latency <1ms\n",
    "* in a benchmark (automatic reaction to stimulus), the response time was reliably under 2ms for visual, and under 20ms (and stable) for auditory stimuli.\n"
   ]
  },
  {
   "cell_type": "markdown",
   "metadata": {},
   "source": [
    "To make sure that stimuli are also accurately presented precisely on time, the ```preload()``` and ```present()```-methods return the number of milliseconds they took - so you can use this time to subtract it from other waiting times!"
   ]
  },
  {
   "cell_type": "code",
   "execution_count": null,
   "metadata": {},
   "outputs": [],
   "source": [
    "letters = list(\"ABCDE\")\n",
    "with StimuliDemo(\"Experiment\") as exp:   \n",
    "    for letter in letters:\n",
    "        target = stimuli.TextLine(text=letter, text_size=80)\n",
    "        exp.clock.wait(500 - stimuli.FixCross().present() - target.preload())\n",
    "        target.present()\n",
    "        exp.clock.wait(1000)\n",
    "        exp.clock.wait(1000 - stimuli.BlankScreen().present() - target.unload())"
   ]
  },
  {
   "cell_type": "markdown",
   "metadata": {},
   "source": [
    "## Data logging\n",
    "\n",
    "After the experiment ended using control.end(), two files will automatically be saved: \n",
    "* An event log file (```events/name_vpnr_timestamp.xpe```) that contains an automatic history of all events: \n",
    "  * A detailed description of experimantal design (including a complete listing of trials)\n",
    "  * Stimulus presentation and expected IO events and device communications\n",
    "  * Upon selection even more (all screen operations, full serial port communication, ...)\n",
    "* A data file (```data/name_vpnr_timestamp.xpd```), containing what was manually saved during the experiment\n",
    "\n",
    "Both files are *commented* csv-files and can be inspected with most csv-viewers (and with pandas, when explicitly skipping the commented rows!)\n",
    "\n",
    "To add something to the data-file, you use the ```exp.data``` attribute.  \n",
    "Before ```control.start()```, you can add the column names via:  \n",
    "```exp.data_variable_names = [\"name1\", \"name\"]```  \n",
    "Adding variables happens using \n",
    "```exp.data.add([value1, value2])```"
   ]
  },
  {
   "cell_type": "code",
   "execution_count": null,
   "metadata": {},
   "outputs": [],
   "source": [
    "# %load responsetime.py\n",
    "<don't run me>\n",
    "\n",
    "from expyriment import design, control, stimuli, misc, io\n",
    "import random\n",
    "control.set_develop_mode(True)\n",
    "\n",
    "exp = design.Experiment(name=\"My Experiment\")\n",
    "control.initialize(exp)\n",
    "\n",
    "fixcross = stimuli.FixCross()\n",
    "fixcross.preload()\n",
    "blankscreen = stimuli.BlankScreen()\n",
    "blankscreen.preload()\n",
    "\n",
    "b = design.Block(name=\"Only Block\")\n",
    "for i in range(10):\n",
    "    waiting_time = random.randint(200, 2000)\n",
    "    t = design.Trial()\n",
    "    t.set_factor(\"waiting_time\", waiting_time)\n",
    "    s = stimuli.Circle(50)\n",
    "    t.add_stimulus(s)\n",
    "    b.add_trial(t)\n",
    "exp.add_block(b)\n",
    "    \n",
    "    \n",
    "exp.data_variable_names = [\"Waiting Time\", \"Response Time\"]\n",
    "    \n",
    "control.start()\n",
    "\n",
    "for block in exp.blocks:\n",
    "    for trial in block.trials:\n",
    "        fixcross.present()\n",
    "        exp.clock.wait(trial.get_factor(\"waiting_time\") - trial.stimuli[0].preload())\n",
    "        trial.stimuli[0].present() \n",
    "        button, rt = exp.keyboard.wait(keys=[misc.constants.K_SPACE])\n",
    "        exp.data.add([trial.get_factor(\"waiting_time\"), rt])\n",
    "        \n",
    "            \n",
    "control.end()            "
   ]
  },
  {
   "cell_type": "code",
   "execution_count": null,
   "metadata": {},
   "outputs": [],
   "source": [
    "%run responsetime.py"
   ]
  },
  {
   "cell_type": "code",
   "execution_count": null,
   "metadata": {},
   "outputs": [],
   "source": [
    "%cat data/responsetime_01.xpd"
   ]
  },
  {
   "cell_type": "code",
   "execution_count": null,
   "metadata": {},
   "outputs": [],
   "source": [
    "import pandas as pd\n",
    "FILENAME = \"data/responsetime_01.xpd\"\n",
    "\n",
    "def get_first_row(filename):\n",
    "    with open(filename, \"r\") as f:\n",
    "        for num, line in enumerate(f.readlines()):\n",
    "            if not line.strip().startswith(\"#\"):\n",
    "                return num\n",
    "            \n",
    "df = pd.read_csv(FILENAME, skiprows=get_first_row(FILENAME))\n",
    "df"
   ]
  },
  {
   "cell_type": "markdown",
   "metadata": {},
   "source": [
    "## Serial triggers\n",
    "\n",
    "If you're working with (for example) an EEG, all you need your expyriment to do is to sent triggers to it at the right time - this is done very easily with serial ports:"
   ]
  },
  {
   "cell_type": "code",
   "execution_count": null,
   "metadata": {},
   "outputs": [],
   "source": [
    "import serial\n",
    "from expyriment import design, control, stimuli, misc, io\n",
    "import random\n",
    "control.set_develop_mode(True)\n",
    "\n",
    "exp = design.Experiment(name=\"My Experiment\")\n",
    "control.initialize(exp)\n",
    "\n",
    "fixcross = stimuli.FixCross()\n",
    "fixcross.preload()\n",
    "blankscreen = stimuli.BlankScreen()\n",
    "blankscreen.preload()\n",
    "\n",
    "b = design.Block(name=\"Only Block\")\n",
    "for i in range(10):\n",
    "    waiting_time = random.randint(200, 2000)\n",
    "    t = design.Trial()\n",
    "    t.set_factor(\"waiting_time\", waiting_time)\n",
    "    s = stimuli.Circle(50)\n",
    "    t.add_stimulus(s)\n",
    "    b.add_trial(t)\n",
    "exp.add_block(b)\n",
    "    \n",
    "exp.serial_port = serial.Serial('COM1') # Can also be COM2, COM3, etc.    \n",
    "exp.data_variable_names = [\"Waiting Time\", \"Response Time\"]\n",
    "    \n",
    "control.start()\n",
    "\n",
    "for block in exp.blocks:\n",
    "    for trial in block.trials:\n",
    "        fixcross.present()\n",
    "        exp.clock.wait(trial.get_factor(\"waiting_time\") - trial.stimuli[0].preload())\n",
    "        trial.stimuli[0].present() \n",
    "        exp.serial_port.write(chr(1)) # Send the byte 1 as a character\n",
    "        button, rt = exp.keyboard.wait(keys=[misc.constants.K_SPACE])\n",
    "        exp.data.add([trial.get_factor(\"waiting_time\"), rt])\n",
    "        \n",
    "            \n",
    "exp.serial_port.close()\n",
    "control.end()            "
   ]
  },
  {
   "cell_type": "markdown",
   "metadata": {},
   "source": [
    "## Exporting data"
   ]
  },
  {
   "cell_type": "code",
   "execution_count": null,
   "metadata": {},
   "outputs": [],
   "source": [
    "# %load export_data.py\n",
    "from expyriment import misc\n",
    "import os\n",
    "\n",
    "data_folder = os.path.join(os.path.dirname(__file__), \"data/\")\n",
    "print(data_folder)\n",
    "misc.data_preprocessing.write_concatenated_data(data_folder, \"responsetime_\", output_file=\"data.csv\")"
   ]
  },
  {
   "cell_type": "code",
   "execution_count": null,
   "metadata": {},
   "outputs": [],
   "source": [
    "%run export_data.py"
   ]
  },
  {
   "cell_type": "code",
   "execution_count": null,
   "metadata": {},
   "outputs": [],
   "source": [
    "pd.read_csv(\"data.csv\")"
   ]
  },
  {
   "cell_type": "raw",
   "metadata": {},
   "source": [
    "\n",
    "\n",
    "\n",
    "\n",
    "\n",
    "\n",
    "\n",
    "\n",
    "\n",
    "\n",
    "\n",
    "\n"
   ]
  },
  {
   "cell_type": "markdown",
   "metadata": {},
   "source": [
    "# Putting it together\n",
    "\n",
    "This is finally enough to code experiments!\n",
    "\n",
    "As first example, let's look at the code for an experiment testing the **Simon effect**, which says that reaction times are faster, and reaction times more accurate, when the stimulus occurs in the same relative location as the response, even if the stimulus location is irrelevant to the task."
   ]
  },
  {
   "cell_type": "markdown",
   "metadata": {},
   "source": [
    "In two experimental tasks, participants have to respond to a rectangle on the screen, according to its color (red or green), by pressing the left or the right arrow key on the computer’s key- board. Additionally, the position of the rectangles canbe either left or right. Each trial will start with the presentation of a fixation cross for 500 ms, ollowed by the rectangle that will remain on the display until a response is given. Between trials, a blank screen is shown for 3,000 ms. Each block will contain 128 trials in  andom order. The two tasks will differ only in the mapping of responses (i.e., which button to press for which color), which will be shown to the participant as a brief  nstruction at the beginning of each block. The order of tasks will be counterb alanced over participants. The experiment has a 2×2×2×2 factorial design, with the within-subjects  actors Color (red, green), Position (left, right), and Task (left = green, left = red), as well as the between-subjects factor Task Order (left = green first,left = red first). (From the [paper](https://link.springer.com/article/10.3758%2Fs13428-013-0390-6))"
   ]
  },
  {
   "cell_type": "code",
   "execution_count": 1,
   "metadata": {},
   "outputs": [
    {
     "ename": "ModuleNotFoundError",
     "evalue": "No module named 'expyriment'",
     "output_type": "error",
     "traceback": [
      "\u001b[0;31m---------------------------------------------------------------------------\u001b[0m",
      "\u001b[0;31mModuleNotFoundError\u001b[0m                       Traceback (most recent call last)",
      "\u001b[0;32m<ipython-input-1-75dd7a23d915>\u001b[0m in \u001b[0;36m<module>\u001b[0;34m\u001b[0m\n\u001b[0;32m----> 1\u001b[0;31m \u001b[0;32mfrom\u001b[0m \u001b[0mexpyriment\u001b[0m \u001b[0;32mimport\u001b[0m \u001b[0mdesign\u001b[0m\u001b[0;34m,\u001b[0m \u001b[0mcontrol\u001b[0m\u001b[0;34m,\u001b[0m \u001b[0mstimuli\u001b[0m\u001b[0;34m,\u001b[0m \u001b[0mio\u001b[0m\u001b[0;34m,\u001b[0m \u001b[0mmisc\u001b[0m\u001b[0;34m\u001b[0m\u001b[0;34m\u001b[0m\u001b[0m\n\u001b[0m\u001b[1;32m      2\u001b[0m \u001b[0mcontrol\u001b[0m\u001b[0;34m.\u001b[0m\u001b[0mset_develop_mode\u001b[0m\u001b[0;34m(\u001b[0m\u001b[0;32mFalse\u001b[0m\u001b[0;34m)\u001b[0m\u001b[0;34m\u001b[0m\u001b[0;34m\u001b[0m\u001b[0m\n\u001b[1;32m      3\u001b[0m \u001b[0mio\u001b[0m\u001b[0;34m.\u001b[0m\u001b[0mdefaults\u001b[0m\u001b[0;34m.\u001b[0m\u001b[0moutputfile_time_stamp\u001b[0m \u001b[0;34m=\u001b[0m \u001b[0;32mFalse\u001b[0m\u001b[0;34m\u001b[0m\u001b[0;34m\u001b[0m\u001b[0m\n\u001b[1;32m      4\u001b[0m \u001b[0;34m\u001b[0m\u001b[0m\n\u001b[1;32m      5\u001b[0m \u001b[0;31m# Create and initialize an Experiment\u001b[0m\u001b[0;34m\u001b[0m\u001b[0;34m\u001b[0m\u001b[0;34m\u001b[0m\u001b[0m\n",
      "\u001b[0;31mModuleNotFoundError\u001b[0m: No module named 'expyriment'"
     ]
    }
   ],
   "source": [
    "from expyriment import design, control, stimuli, io, misc\n",
    "control.set_develop_mode(False)\n",
    "io.defaults.outputfile_time_stamp = False\n",
    "\n",
    "# Create and initialize an Experiment\n",
    "exp = design.Experiment(\"Simon Task\")\n",
    "control.initialize(exp)\n",
    "\n",
    "# Define and preload standard stimuli\n",
    "fixcross = stimuli.FixCross()\n",
    "fixcross.preload()\n",
    "blankscreen = stimuli.BlankScreen()\n",
    "blankscreen.preload()\n",
    "# left and right arrow keys for responses\n",
    "response_keys = [misc.constants.K_LEFT, misc.constants.K_RIGHT]\n",
    "\n",
    "# Create design\n",
    "for mapping in [\"left=green\", \"left=red\"]:\n",
    "    b = design.Block()\n",
    "    b.set_factor(\"Mapping\", mapping)\n",
    "    for where in [[\"left\", -300], [\"right\", 300]]:\n",
    "        for what in [[\"red\", misc.constants.C_RED],\n",
    "                     [\"green\", misc.constants.C_GREEN]]:\n",
    "            t = design.Trial()\n",
    "            t.set_factor(\"Position\", where[0])\n",
    "            t.set_factor(\"Colour\", what[0])\n",
    "            s = stimuli.Rectangle([50, 50], position=[where[1], 0], colour=what[1])\n",
    "            t.add_stimulus(s)\n",
    "            b.add_trial(t, copies=2)\n",
    "    b.shuffle_trials()\n",
    "    exp.add_block(b)\n",
    "    \n",
    "exp.add_bws_factor(\"TaskOrder\",[\"left=green first\",\"left=red first\"])\n",
    "exp.data_variable_names = [\"Mapping\", \"Colour\", \"Position\", \"Button\", \"RT\"]\n",
    "exp.save_design('simon_design.csv')\n",
    "\n",
    "# Start Experiment\n",
    "control.start()\n",
    "if exp.get_permuted_bws_factor_condition(\"TaskOrder\") == \"left=red first\":\n",
    "    exp.swap_blocks(0,1)\n",
    "    \n",
    "for block in exp.blocks:\n",
    "    stimuli.TextScreen(\"Instructions\", block.get_factor(\"Mapping\")).present()\n",
    "    exp.keyboard.wait()\n",
    "    for trial in block.trials:\n",
    "        fixcross.present()\n",
    "        exp.clock.wait(1000 - trial.stimuli[0].preload())\n",
    "        trial.stimuli[0].present()\n",
    "        button, rt = exp.keyboard.wait(keys=response_keys)\n",
    "        exp.data.add([block.get_factor(\"Mapping\"), trial.get_factor(\"Colour\"), trial.get_factor(\"Position\"), button, rt])\n",
    "\n",
    "# End Experiment\n",
    "control.end(goodbye_text=\"Thank you for participating!\")\n",
    "exp.save_design('simon_design_subject'+str(exp.subject)+'.csv')"
   ]
  },
  {
   "cell_type": "code",
   "execution_count": null,
   "metadata": {},
   "outputs": [],
   "source": [
    "% cat simon_design.csv"
   ]
  },
  {
   "cell_type": "code",
   "execution_count": null,
   "metadata": {},
   "outputs": [],
   "source": [
    "% cat data/ipykernel_launcher_20.xpd"
   ]
  },
  {
   "cell_type": "code",
   "execution_count": null,
   "metadata": {},
   "outputs": [],
   "source": [
    "% cat events/ipykernel_launcher_20.xpe"
   ]
  },
  {
   "cell_type": "raw",
   "metadata": {},
   "source": [
    "\n",
    "\n",
    "\n",
    "\n",
    "\n",
    "\n",
    "\n",
    "\n",
    "\n",
    "\n",
    "\n",
    "\n",
    "\n",
    "\n",
    "\n",
    "\n"
   ]
  },
  {
   "cell_type": "markdown",
   "metadata": {},
   "source": [
    "# More resources\n",
    "\n",
    "* If you also want to know something about PsychoPy, we added last week's *Basic Programming in Python* Lecture about experiments, including also Psychopy\n",
    "* First address for Expyriment: Their [website](http://www.expyriment.org/).\n",
    "* A nice introduction is given by their paper: Krause, F. & Lindemann, O. (2014). Expyriment: A Python library for cognitive and neuroscientific experiments. Behavior Research Methods, 46(2), 416-428. [doi:10.3758/s13428-013-0390-6](https://link.springer.com/article/10.3758%2Fs13428-013-0390-6).\n",
    "* It's always, always, always helpful to look at the docs! They provide a nice Overview, as well as the API reference, under [https://docs.expyriment.org/](https://docs.expyriment.org/)\n",
    "* A nice starting point if you want to make your own experiments is also their experiment-stash: [https://github.com/expyriment/expyriment-stash](https://github.com/expyriment/expyriment-stash)"
   ]
  },
  {
   "cell_type": "raw",
   "metadata": {},
   "source": [
    "\n",
    "\n",
    "\n",
    "\n",
    "\n",
    "\n",
    "\n",
    "\n"
   ]
  },
  {
   "cell_type": "markdown",
   "metadata": {},
   "source": [
    "# Appendix\n",
    "## Shuffling\n",
    "\n",
    "Shuffling your conditions is harder as it seems at first: Imagine you merge two experiments into one, additionally providing distractors. It may be unwanted to have more than two trial of the same condition behind each other. Further, you may not want the first experiment to be present only in the first half of the experiment, leaving only the other one and the distractors for the second half."
   ]
  },
  {
   "cell_type": "code",
   "execution_count": null,
   "metadata": {},
   "outputs": [],
   "source": [
    "import random\n",
    "from functools import reduce\n",
    "\n",
    "def condition(ls):\n",
    "    \"\"\"returns False if two consecutive list-elements start with the same letter, else True\"\"\"\n",
    "    return reduce(lambda x,y: False if x is False or x[0]==y[0] else y, ls) != False\n",
    "\n",
    "def generate_lists(num_elems):\n",
    "    l1 = list([\"A\"+str(i) for i in range(num_elems)])\n",
    "    l2 = list([\"B\"+str(i) for i in range(num_elems)])\n",
    "    l3 = list([\"C\"+str(i) for i in range(num_elems)])\n",
    "    return l1+l2+l3\n",
    "\n",
    "together = generate_lists(10)\n",
    "random.shuffle(together)\n",
    "\n",
    "print(together)\n",
    "condition(together)"
   ]
  },
  {
   "cell_type": "markdown",
   "metadata": {},
   "source": [
    "The easiest approach to do this is to just test the conditions you want in a function, and to shuffle until this condition is met. But beware, this has a theoretical runtime of $\\mathcal{O}(\\infty)$, and thus may run indefinitely long or not even lead to any result at all! The more restrictions you have to your shuffle and the more items the lists have, the less likely that any shuffle will even be "
   ]
  },
  {
   "cell_type": "code",
   "execution_count": null,
   "metadata": {},
   "outputs": [],
   "source": [
    "random.seed(1)\n",
    "\n",
    "toegether = generate_lists(10)\n",
    "\n",
    "while not condition(together):\n",
    "    random.shuffle(together)\n",
    "\n",
    "print(together)"
   ]
  },
  {
   "cell_type": "code",
   "execution_count": null,
   "metadata": {},
   "outputs": [],
   "source": [
    "together = generate_lists(15)\n",
    "\n",
    "while not condition(together):\n",
    "    random.shuffle(together)\n",
    "\n",
    "print(together)"
   ]
  },
  {
   "cell_type": "markdown",
   "metadata": {},
   "source": [
    "A better approach in this situation may be *divide and conquer*, provided the problem you have can easily be divided."
   ]
  },
  {
   "cell_type": "code",
   "execution_count": null,
   "metadata": {},
   "outputs": [],
   "source": [
    "def generate_lists2(num_elems):\n",
    "    l1 = list([\"A\"+str(i) for i in range(num_elems)])\n",
    "    l2 = list([\"B\"+str(i) for i in range(num_elems)])\n",
    "    l3 = list([\"C\"+str(i) for i in range(num_elems)])\n",
    "    for ls in [l1, l2, l3]:\n",
    "        random.shuffle(ls)\n",
    "    return l1, l2, l3\n",
    "\n",
    "NUM_ELEMS = 30\n",
    "OKAY_ELEMS = 5\n",
    "l1, l2, l3 = generate_lists2(NUM_ELEMS)\n",
    "tmp_lists = []\n",
    "\n",
    "for i in range(NUM_ELEMS//OKAY_ELEMS):\n",
    "    tmp = l1[i*OKAY_ELEMS: (i+1)*OKAY_ELEMS] + l2[i*OKAY_ELEMS: (i+1)*OKAY_ELEMS] + l3[i*OKAY_ELEMS: (i+1)*OKAY_ELEMS]\n",
    "    while not condition(tmp):\n",
    "        random.shuffle(tmp)\n",
    "    tmp_lists.append(tmp)\n",
    "                \n",
    "for i in range(len(tmp_lists)-1):\n",
    "    while not condition([tmp_lists[i][-1]]+[tmp_lists[i+1][0]]):\n",
    "        tmp_lists[i+1] = tmp_lists[i+1][1:] + [tmp_lists[i+1][0]]\n",
    "    \n",
    "final_list = reduce(lambda x,y: x+y, tmp_lists)\n",
    "\n",
    "print(final_list)"
   ]
  },
  {
   "cell_type": "markdown",
   "metadata": {},
   "source": [
    "Another possibility is to just drop the idea of \"shuffling until you find one\" idea completely, and build the desired sequence one at a time:"
   ]
  },
  {
   "cell_type": "code",
   "execution_count": null,
   "metadata": {},
   "outputs": [],
   "source": [
    "import numpy\n",
    "lists = generate_lists2(30)\n",
    "\n",
    "#print(lists)\n",
    "#print(list(numpy.where(list_allowed))[0])\n",
    "\n",
    "\n",
    "amdone = False\n",
    "while not amdone:\n",
    "    try:\n",
    "        list_allowed = [True, True, True]\n",
    "        indices = [0, 0, 0]\n",
    "        merged = []\n",
    "        for _ in range(sum(len(i) for i in lists)):\n",
    "            next_val = random.choice(list(numpy.where(list_allowed))[0])\n",
    "            merged.append(lists[next_val][indices[next_val]])\n",
    "            indices[next_val] += 1\n",
    "            list_allowed = [True, True, True]\n",
    "            list_allowed[next_val] = False\n",
    "            for i in range(len(indices)):\n",
    "                if indices[i] >= len(lists[i]):\n",
    "                    list_allowed[i] = False\n",
    "    except IndexError:\n",
    "        pass\n",
    "    else:\n",
    "        amdone = True\n",
    "    \n",
    "    \n",
    "print(merged)"
   ]
  },
  {
   "cell_type": "markdown",
   "metadata": {},
   "source": [
    "How expyriment shuffles: https://docs.expyriment.org/expyriment.design.Block.html#expyriment.design.Block.shuffle_trials"
   ]
  }
 ],
 "metadata": {
  "kernelspec": {
   "display_name": "Python 3",
   "language": "python",
   "name": "python3"
  },
  "language_info": {
   "codemirror_mode": {
    "name": "ipython",
    "version": 3
   },
   "file_extension": ".py",
   "mimetype": "text/x-python",
   "name": "python",
   "nbconvert_exporter": "python",
   "pygments_lexer": "ipython3",
   "version": "3.7.1"
  }
 },
 "nbformat": 4,
 "nbformat_minor": 2
}
